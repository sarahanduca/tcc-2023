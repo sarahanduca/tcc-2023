{
 "cells": [
  {
   "cell_type": "code",
   "execution_count": 4,
   "metadata": {},
   "outputs": [],
   "source": [
    "def get_data(endpoint, per_page = 100, cursor = None):\n",
    "    url = \"https://api.openalex.org/\" + endpoint + \"?per-page=\" + per_page + \"&cursor=\" + cursor \n",
    "    data = requests.get(url)\n",
    "    data_dict = json.loads(data.text)\n",
    "    data_df = pd.DataFrame.from_dict(data_dict[\"results\"])\n",
    "    return data_df"
   ]
  },
  {
   "cell_type": "code",
   "execution_count": 27,
   "metadata": {},
   "outputs": [],
   "source": [
    "import math\n",
    "url = \"https://api.openalex.org/sources?per-page=100&cursor=*\"\n",
    "\n",
    "sources = requests.get(url)\n",
    "sources_dict = json.loads(sources.text)\n",
    "total_pages = math.ceil(sources_dict[\"meta\"][\"count\"]/100)\n",
    "sources_df = pd.DataFrame.from_dict(sources_dict[\"results\"])\n",
    "sources_df.to_csv(\"sources.csv\", mode='a', index=False)\n",
    "\n",
    "while(total_pages > 1):\n",
    "    cursor = sources_dict[\"meta\"][\"next_cursor\"]\n",
    "    sources_df = get_data(\"sources\", \"100\", cursor)\n",
    "    sources_df.to_csv(\"sources.csv\", mode='a', index=False)\n",
    "    total_pages -= 1"
   ]
  },
  {
   "cell_type": "code",
   "execution_count": 26,
   "metadata": {},
   "outputs": [],
   "source": [
    "import math\n",
    "url = \"https://api.openalex.org/publishers?per-page=100&cursor=*\"\n",
    "\n",
    "publisher = requests.get(url)\n",
    "publisher_dict = json.loads(publisher.text)\n",
    "total_pages = math.ceil(publisher_dict[\"meta\"][\"count\"]/100)\n",
    "publisher_df = pd.DataFrame.from_dict(publisher_dict[\"results\"])\n",
    "publisher_df.to_csv(\"publisher.csv\", mode='a', index=False)\n",
    "\n",
    "# while(total_pages > 1):\n",
    "#     cursor = publisher_dict[\"meta\"][\"next_cursor\"]\n",
    "#     publisher_df = get_data(\"publishers\", \"100\", cursor)\n",
    "#     publisher_df.to_csv(\"publisher.csv\", mode='a', header=False, index=False)\n",
    "#     total_pages -= 1"
   ]
  },
  {
   "cell_type": "code",
   "execution_count": 39,
   "metadata": {},
   "outputs": [
    {
     "name": "stdout",
     "output_type": "stream",
     "text": [
      "Percentage of journals in SSCI 2022 in OpenAlex: 13.584905660377359%\n"
     ]
    }
   ],
   "source": [
    "final_list_len = len(final_source)\n",
    "result_list_len = len(ssci_in_sources)\n",
    "# find percentage of journals in ssci_journals_in_sources\n",
    "print(\"Percentage of journals in SSCI 2022 in OpenAlex: \" + percentage(result_list_len, final_list_len))\n"
   ]
  },
  {
   "cell_type": "code",
   "execution_count": 42,
   "metadata": {},
   "outputs": [
    {
     "name": "stdout",
     "output_type": "stream",
     "text": [
      "80.75471698113208%\n"
     ]
    }
   ],
   "source": [
    "print(percentage(ahci_in_sources_len + sce_in_sources_len + result_list_len, final_list_len))"
   ]
  },
  {
   "cell_type": "code",
   "execution_count": 40,
   "metadata": {},
   "outputs": [
    {
     "name": "stdout",
     "output_type": "stream",
     "text": [
      "Percentage of journals in AHCI 2022 in OpenAlex: 9.81132075471698%\n"
     ]
    }
   ],
   "source": [
    "ahci_in_sources_len = len(ahci_in_sources)\n",
    "print(\"Percentage of journals in AHCI 2022 in OpenAlex: \" + percentage(ahci_in_sources_len, final_list_len))"
   ]
  },
  {
   "cell_type": "code",
   "execution_count": 41,
   "metadata": {},
   "outputs": [
    {
     "name": "stdout",
     "output_type": "stream",
     "text": [
      "Percentage of journals in SCE 2022 in OpenAlex: 57.35849056603774%\n"
     ]
    }
   ],
   "source": [
    "sce_in_sources_len = len(sce_in_sources)\n",
    "print(\"Percentage of journals in SCE 2022 in OpenAlex: \" + percentage(sce_in_sources_len, final_list_len))"
   ]
  },
  {
   "cell_type": "code",
   "execution_count": 1,
   "metadata": {},
   "outputs": [],
   "source": [
    "import pandas as pd\n",
    "import requests\n",
    "import json \n",
    "import numpy as np"
   ]
  },
  {
   "cell_type": "code",
   "execution_count": 31,
   "metadata": {},
   "outputs": [],
   "source": [
    "ssci_dfs = pd.read_excel(\"./SSCI2022.xlsx\", sheet_name=None)\n",
    "ahci_dfs = pd.read_excel(\"./AHCI2022.xlsx\", sheet_name=None)\n",
    "sce_dfs = pd.read_excel(\"./SCE2022.xlsx\", sheet_name=None)\n",
    "sources_dnf = pd.read_csv(\"./sources.csv\")"
   ]
  },
  {
   "cell_type": "code",
   "execution_count": 32,
   "metadata": {},
   "outputs": [],
   "source": [
    "ahci_journals = ahci_dfs['wos-core_AHCI 2022-June-22'][\"Column1\"].tolist()\n",
    "ahci_journals.pop(0)\n",
    "ahci_journals = [x.lower() for x in ahci_journals]\n"
   ]
  },
  {
   "cell_type": "code",
   "execution_count": 33,
   "metadata": {},
   "outputs": [],
   "source": [
    "sce_journals = sce_dfs['June 22, 2022'][\"Column1\"].tolist()\n",
    "sce_journals.pop(0)\n",
    "sce_journals = [x.lower() for x in sce_journals]"
   ]
  },
  {
   "cell_type": "code",
   "execution_count": 34,
   "metadata": {},
   "outputs": [],
   "source": [
    "ssci_journals = ssci_dfs['wos-core_SSCI 2022-June-22'][\"Column1\"].tolist()\n",
    "ssci_journals.pop(0)\n",
    "ssci_journals = [x.lower() for x in ssci_journals]"
   ]
  },
  {
   "cell_type": "code",
   "execution_count": 35,
   "metadata": {},
   "outputs": [],
   "source": [
    "sources_display_name = [x.lower() for x in sources_dnf.display_name.unique()]\n",
    "sources_alternate_titles = [x.lower() for x in sources_dnf.alternate_titles.unique() if type(x) == str]\n",
    "sources_alternate_titles = [x.replace(\"[\", \"\").replace(\"]\", \"\") for x in sources_alternate_titles]\n",
    "final_source = np.concatenate((sources_display_name, sources_alternate_titles), axis=None)"
   ]
  },
  {
   "cell_type": "code",
   "execution_count": 36,
   "metadata": {},
   "outputs": [],
   "source": [
    "def filter_journals(journal_list):\n",
    "    filtered_journals = []\n",
    "    for journal in journal_list:\n",
    "        for source in final_source:\n",
    "            if journal in source and source not in filtered_journals:\n",
    "                filtered_journals.append(source)\n",
    "    return filtered_journals\n",
    "\n",
    "def percentage(part, whole):\n",
    "    res = 100 * float(part)/float(whole)\n",
    "    return str(res) + \"%\""
   ]
  },
  {
   "cell_type": "code",
   "execution_count": 37,
   "metadata": {},
   "outputs": [],
   "source": [
    "ssci_in_sources = filter_journals(ssci_journals)\n",
    "ahci_in_sources = filter_journals(ahci_journals)\n",
    "sce_in_sources = filter_journals(sce_journals)"
   ]
  },
  {
   "cell_type": "code",
   "execution_count": 38,
   "metadata": {},
   "outputs": [
    {
     "name": "stdout",
     "output_type": "stream",
     "text": [
      "Stored 'ssci_in_sources' (list)\n",
      "Stored 'ahci_in_sources' (list)\n",
      "Stored 'sce_in_sources' (list)\n",
      "Stored 'sources_dnf' (DataFrame)\n"
     ]
    }
   ],
   "source": [
    "%store ssci_in_sources\n",
    "%store ahci_in_sources\n",
    "%store sce_in_sources\n",
    "%store sources_dnf"
   ]
  }
 ],
 "metadata": {
  "kernelspec": {
   "display_name": "Python 3",
   "language": "python",
   "name": "python3"
  },
  "language_info": {
   "codemirror_mode": {
    "name": "ipython",
    "version": 3
   },
   "file_extension": ".py",
   "mimetype": "text/x-python",
   "name": "python",
   "nbconvert_exporter": "python",
   "pygments_lexer": "ipython3",
   "version": "3.10.12"
  }
 },
 "nbformat": 4,
 "nbformat_minor": 2
}
