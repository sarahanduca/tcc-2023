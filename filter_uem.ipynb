{
 "cells": [
  {
   "cell_type": "code",
   "execution_count": 3,
   "metadata": {},
   "outputs": [],
   "source": [
    "%store -r ssci_in_sources\n",
    "%store -r ahci_in_sources\n",
    "%store -r sce_in_sources\n",
    "%store -r sources_dnf"
   ]
  },
  {
   "cell_type": "code",
   "execution_count": 1,
   "metadata": {},
   "outputs": [],
   "source": [
    "import requests\n",
    "import json\n",
    "import pandas as pd\n",
    "import math\n",
    "import numpy as np"
   ]
  },
  {
   "cell_type": "code",
   "execution_count": 25,
   "metadata": {},
   "outputs": [],
   "source": [
    "def get_data(cursor = None):\n",
    "    url = \"https://api.openalex.org/works?filter=institutions.id:I123443094,publication_year:2018-2021&per-page=100&cursor=\" + cursor \n",
    "    data = requests.get(url)\n",
    "    data_dict = json.loads(data.text)\n",
    "    data_df = pd.DataFrame.from_dict(data_dict[\"results\"])\n",
    "    return data_df\n"
   ]
  },
  {
   "cell_type": "code",
   "execution_count": 27,
   "metadata": {},
   "outputs": [],
   "source": [
    "url = 'https://api.openalex.org/works?filter=institutions.id:I123443094,publication_year:2018-2021&per-page=100&cursor=*'\n",
    "\n",
    "uem_works = requests.get(url)\n",
    "uem_works_dict = json.loads(uem_works.text)\n",
    "total_pages = math.ceil(uem_works_dict[\"meta\"][\"count\"]/100)\n",
    "uem_works_df = pd.DataFrame.from_dict(uem_works_dict[\"results\"])\n",
    "uem_works_df.to_csv(\"uem_works.csv\", mode='a', index=False)\n",
    "\n",
    "while(total_pages > 1):\n",
    "    cursor = uem_works_dict[\"meta\"][\"next_cursor\"]\n",
    "    uem_works_df = get_data(cursor)\n",
    "    uem_works_df.to_csv(\"uem_works.csv\", mode='a', index=False)\n",
    "    total_pages -= 1"
   ]
  },
  {
   "cell_type": "code",
   "execution_count": 25,
   "metadata": {},
   "outputs": [],
   "source": [
    "works = pd.read_csv(\"uem_works.csv\")\n",
    "works = works.drop_duplicates(subset=['id'])"
   ]
  },
  {
   "cell_type": "code",
   "execution_count": 26,
   "metadata": {},
   "outputs": [],
   "source": [
    "authors = works[\"authorships\"].apply(pd.Series)"
   ]
  },
  {
   "cell_type": "code",
   "execution_count": 53,
   "metadata": {},
   "outputs": [
    {
     "ename": "AttributeError",
     "evalue": "'DataFrame' object has no attribute 'display_name'",
     "output_type": "error",
     "traceback": [
      "\u001b[0;31m---------------------------------------------------------------------------\u001b[0m",
      "\u001b[0;31mAttributeError\u001b[0m                            Traceback (most recent call last)",
      "\u001b[0;32m/tmp/ipykernel_1430/2241321052.py\u001b[0m in \u001b[0;36m<module>\u001b[0;34m\u001b[0m\n\u001b[0;32m----> 1\u001b[0;31m \u001b[0;32mfor\u001b[0m \u001b[0mindex\u001b[0m\u001b[0;34m,\u001b[0m \u001b[0mauthor\u001b[0m \u001b[0;32min\u001b[0m \u001b[0mauthors\u001b[0m\u001b[0;34m.\u001b[0m\u001b[0mdisplay_name\u001b[0m\u001b[0;34m:\u001b[0m\u001b[0;34m\u001b[0m\u001b[0;34m\u001b[0m\u001b[0m\n\u001b[0m\u001b[1;32m      2\u001b[0m     \u001b[0mprint\u001b[0m\u001b[0;34m(\u001b[0m\u001b[0mauthor\u001b[0m\u001b[0;34m)\u001b[0m\u001b[0;34m\u001b[0m\u001b[0;34m\u001b[0m\u001b[0m\n",
      "\u001b[0;32m~/.local/lib/python3.10/site-packages/pandas/core/generic.py\u001b[0m in \u001b[0;36m__getattr__\u001b[0;34m(self, name)\u001b[0m\n\u001b[1;32m   6202\u001b[0m         ):\n\u001b[1;32m   6203\u001b[0m             \u001b[0;32mreturn\u001b[0m \u001b[0mself\u001b[0m\u001b[0;34m[\u001b[0m\u001b[0mname\u001b[0m\u001b[0;34m]\u001b[0m\u001b[0;34m\u001b[0m\u001b[0;34m\u001b[0m\u001b[0m\n\u001b[0;32m-> 6204\u001b[0;31m         \u001b[0;32mreturn\u001b[0m \u001b[0mobject\u001b[0m\u001b[0;34m.\u001b[0m\u001b[0m__getattribute__\u001b[0m\u001b[0;34m(\u001b[0m\u001b[0mself\u001b[0m\u001b[0;34m,\u001b[0m \u001b[0mname\u001b[0m\u001b[0;34m)\u001b[0m\u001b[0;34m\u001b[0m\u001b[0;34m\u001b[0m\u001b[0m\n\u001b[0m\u001b[1;32m   6205\u001b[0m \u001b[0;34m\u001b[0m\u001b[0m\n\u001b[1;32m   6206\u001b[0m     \u001b[0;34m@\u001b[0m\u001b[0mfinal\u001b[0m\u001b[0;34m\u001b[0m\u001b[0;34m\u001b[0m\u001b[0m\n",
      "\u001b[0;31mAttributeError\u001b[0m: 'DataFrame' object has no attribute 'display_name'"
     ]
    }
   ],
   "source": [
    "for index, author in authors.display_name:\n",
    "    print(author)"
   ]
  },
  {
   "cell_type": "code",
   "execution_count": 4,
   "metadata": {},
   "outputs": [],
   "source": [
    "nomes = pd.read_csv(\"nomes.csv\")"
   ]
  },
  {
   "cell_type": "code",
   "execution_count": 56,
   "metadata": {},
   "outputs": [
    {
     "name": "stdout",
     "output_type": "stream",
     "text": [
      "                                                        0\n",
      "0       AILINE|ALEINE|ALIINE|ALINE|ALINER|ALINHE|ALINN...\n",
      "1                                              ARAAO|ARAO\n",
      "2                            AHARON|AROM|ARON|ARYON|HARON\n",
      "3                                 ADA|ADAH|ADAR|ADHA|HADA\n",
      "4                                                     NaN\n",
      "...                                                   ...\n",
      "100782                                           MACILEIA\n",
      "100783  GELINE|GILEINE|GLEINE|GLEINER|GLEYNE|JAELINE|J...\n",
      "100784                                  DEMILTOM|DEMILTON\n",
      "100785  ALIVIA|ELIVIA|EULIVIA|HOLIVIA|LEIVIA|LIIVIA|LI...\n",
      "100786                                             FABSON\n",
      "\n",
      "[100787 rows x 1 columns]\n"
     ]
    }
   ],
   "source": [
    "alternative_names = nomes[\"alternative_names\"].apply(pd.Series)"
   ]
  },
  {
   "cell_type": "code",
   "execution_count": 24,
   "metadata": {},
   "outputs": [
    {
     "name": "stdout",
     "output_type": "stream",
     "text": [
      "M\n"
     ]
    }
   ],
   "source": [
    "for index, nome in enumerate(nomes.first_name):\n",
    "    if(nome == \"ABILIO\"):\n",
    "        print(nomes.classification[index])\n",
    "        break\n",
    "    "
   ]
  }
 ],
 "metadata": {
  "kernelspec": {
   "display_name": "Python 3",
   "language": "python",
   "name": "python3"
  },
  "language_info": {
   "codemirror_mode": {
    "name": "ipython",
    "version": 3
   },
   "file_extension": ".py",
   "mimetype": "text/x-python",
   "name": "python",
   "nbconvert_exporter": "python",
   "pygments_lexer": "ipython3",
   "version": "3.10.12"
  }
 },
 "nbformat": 4,
 "nbformat_minor": 2
}
